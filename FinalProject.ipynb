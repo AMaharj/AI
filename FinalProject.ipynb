{
 "cells": [
  {
   "cell_type": "code",
   "execution_count": null,
   "metadata": {},
   "outputs": [],
   "source": [
    "<a href=\"https://colab.research.google.com/github/AMaharj/AI-Assignment-2/blob/main/FinalProject.ipynb\">\n",
    "  <img src=\"https://colab.research.google.com/assets/colab-badge.svg\" alt=\"Open In Colab\"/>\n",
    "</a>"
   ]
  },
  {
   "cell_type": "markdown",
   "metadata": {},
   "source": [
    "# PROJECT"
   ]
  },
  {
   "cell_type": "markdown",
   "metadata": {},
   "source": [
    "## An analysis on the global CO2 emission and its relation to population and tempreture."
   ]
  },
  {
   "cell_type": "code",
   "execution_count": 1,
   "metadata": {},
   "outputs": [],
   "source": [
    "from IPython.display import HTML, Image\n",
    "import scipy.stats as stats\n",
    "import numpy as np\n",
    "import pandas as pd\n",
    "import matplotlib.pyplot as plt\n",
    "%matplotlib inline\n",
    "import random\n"
   ]
  },
  {
   "cell_type": "code",
   "execution_count": 2,
   "metadata": {
    "scrolled": false
   },
   "outputs": [
    {
     "name": "stdout",
     "output_type": "stream",
     "text": [
      "    Year      Asia CO2  Europe CO2  Australia CO2    Africa CO2   America CO2  \\\n",
      "0   1950  2.053709e+08   281849536     54743824.0  9.494157e+07  3.163937e+08   \n",
      "1   1951  2.359543e+08   279739072     59034368.0  1.012033e+08  3.539717e+08   \n",
      "2   1952  2.548165e+08   302683040     60206848.0  1.104256e+08  3.590683e+08   \n",
      "3   1953  2.723305e+08   338249488     59441072.0  1.120781e+08  3.600100e+08   \n",
      "4   1954  2.870671e+08   390443168     67846288.0  1.176400e+08  3.803855e+08   \n",
      "..   ...           ...         ...            ...           ...           ...   \n",
      "56  2006  4.175617e+09  2233558141    392681873.2  1.083798e+09  2.114866e+09   \n",
      "57  2007  4.322473e+09  2233026493    400415729.4  1.126333e+09  2.168016e+09   \n",
      "58  2008  4.368833e+09  2260162680    405048537.2  1.178143e+09  2.226580e+09   \n",
      "59  2009  4.331930e+09  2089201625    408672631.7  1.188276e+09  2.157619e+09   \n",
      "60  2010  4.536618e+09  2198211590    406752772.7  1.193784e+09  2.253919e+09   \n",
      "\n",
      "      World CO2  Asia temp  Europe temp  Australia temp  Africa temp  \\\n",
      "0    5786141168      15.60         7.70           13.90        20.70   \n",
      "1    6226396416      15.62         7.67           13.90        20.71   \n",
      "2    6310375296      15.64         7.64           13.90        20.72   \n",
      "3    6486280272      15.66         7.61           13.90        20.73   \n",
      "4    6629183600      15.68         7.58           13.90        20.74   \n",
      "..          ...        ...          ...             ...          ...   \n",
      "56  30286836386      16.56         8.60           14.70        21.74   \n",
      "57  30880145296      16.57         8.60           14.75        21.78   \n",
      "58  31875755797      16.58         8.60           14.80        21.82   \n",
      "59  31523142973      16.59         8.60           14.85        21.86   \n",
      "60  33066651212      16.60         8.60           14.90        21.90   \n",
      "\n",
      "    America temp  World temp   Asia popn  Europe popn  Africa popn  \\\n",
      "0          11.20      15.400  1394018000    549089000    228902000   \n",
      "1          11.15      15.390  1423286000    554742000    234500500   \n",
      "2          11.10      15.380  1452554000    560395000    240099000   \n",
      "3          11.05      15.370  1481822000    566048000    245697500   \n",
      "4          11.00      15.360  1511090000    571701000    251296000   \n",
      "..           ...         ...         ...          ...          ...   \n",
      "56         12.00      16.250  3987698000    731799800    952089400   \n",
      "57         12.05      16.275  4033236000    732698600    975093800   \n",
      "58         12.10      16.300  4078774000    733597400    998098200   \n",
      "59         12.15      16.325  4124312000    734496200   1021102600   \n",
      "60         12.20      16.350  4169850000    735395000   1044107000   \n",
      "\n",
      "    America popn  World popn  \n",
      "0      340459000  2525149000  \n",
      "1      348948800  2574468500  \n",
      "2      357438600  2623788000  \n",
      "3      365928400  2673107500  \n",
      "4      374418200  2722427000  \n",
      "..           ...         ...  \n",
      "56     902616800  6608483800  \n",
      "57     912950600  6688794100  \n",
      "58     923284400  6769104400  \n",
      "59     933618200  6849414700  \n",
      "60     943952000  6929725000  \n",
      "\n",
      "[61 rows x 18 columns]\n"
     ]
    }
   ],
   "source": [
    "pf = pd.read_excel (r'C:\\Users\\alice\\projectfile.xlsx')\n",
    "print (pf)"
   ]
  },
  {
   "cell_type": "markdown",
   "metadata": {},
   "source": [
    "all the data are imported from a excel file which will be provided in the email."
   ]
  },
  {
   "cell_type": "markdown",
   "metadata": {},
   "source": [
    "### Maximum and minimum values"
   ]
  },
  {
   "cell_type": "code",
   "execution_count": 3,
   "metadata": {
    "scrolled": true
   },
   "outputs": [
    {
     "name": "stdout",
     "output_type": "stream",
     "text": [
      "Maximum CO2 emmissions\n"
     ]
    },
    {
     "data": {
      "text/plain": [
       "Asia CO2         4.536618e+09\n",
       "Europe CO2       3.622947e+09\n",
       "Australia CO2    4.086726e+08\n",
       "Africa CO2       1.193784e+09\n",
       "America CO2      2.253919e+09\n",
       "dtype: float64"
      ]
     },
     "execution_count": 3,
     "metadata": {},
     "output_type": "execute_result"
    }
   ],
   "source": [
    "co2pf = pf.drop(columns =['Year','World CO2','Asia temp','Europe temp', 'Australia temp','Africa temp','America temp', 'World temp', 'Asia popn', 'Europe popn', 'Africa popn', 'America popn', 'World popn'''])\n",
    "print('Maximum CO2 emmissions')\n",
    "np.max(co2pf)"
   ]
  },
  {
   "cell_type": "code",
   "execution_count": 4,
   "metadata": {},
   "outputs": [
    {
     "name": "stdout",
     "output_type": "stream",
     "text": [
      "Minimum CO2 emmissions\n"
     ]
    },
    {
     "data": {
      "text/plain": [
       "Asia CO2         205370864.0\n",
       "Europe CO2       279739072.0\n",
       "Australia CO2     54743824.0\n",
       "Africa CO2        94941568.0\n",
       "America CO2      316393728.0\n",
       "dtype: float64"
      ]
     },
     "execution_count": 4,
     "metadata": {},
     "output_type": "execute_result"
    }
   ],
   "source": [
    "print('Minimum CO2 emmissions')\n",
    "np.min(co2pf)"
   ]
  },
  {
   "cell_type": "code",
   "execution_count": 5,
   "metadata": {},
   "outputs": [
    {
     "name": "stdout",
     "output_type": "stream",
     "text": [
      "Maximum tempreture\n"
     ]
    },
    {
     "data": {
      "text/plain": [
       "Asia temp         16.6\n",
       "Europe temp        8.6\n",
       "Australia temp    14.9\n",
       "Africa temp       21.9\n",
       "America temp      12.2\n",
       "dtype: float64"
      ]
     },
     "execution_count": 5,
     "metadata": {},
     "output_type": "execute_result"
    }
   ],
   "source": [
    "temppf = pf.drop(columns =['Year','World CO2','Asia CO2','Europe CO2', 'Australia CO2','Africa CO2','America CO2', 'World temp', 'Asia popn', 'Europe popn', 'Africa popn', 'America popn', 'World popn'''])\n",
    "print('Maximum tempreture')\n",
    "np.max(temppf)"
   ]
  },
  {
   "cell_type": "code",
   "execution_count": 6,
   "metadata": {},
   "outputs": [
    {
     "name": "stdout",
     "output_type": "stream",
     "text": [
      "Minimum tempreture\n"
     ]
    },
    {
     "data": {
      "text/plain": [
       "Asia temp         15.6\n",
       "Europe temp        7.4\n",
       "Australia temp    13.9\n",
       "Africa temp       20.7\n",
       "America temp      10.5\n",
       "dtype: float64"
      ]
     },
     "execution_count": 6,
     "metadata": {},
     "output_type": "execute_result"
    }
   ],
   "source": [
    "print('Minimum tempreture')\n",
    "np.min(temppf)"
   ]
  },
  {
   "cell_type": "code",
   "execution_count": 7,
   "metadata": {
    "scrolled": true
   },
   "outputs": [
    {
     "name": "stdout",
     "output_type": "stream",
     "text": [
      "Maximum population\n"
     ]
    },
    {
     "data": {
      "text/plain": [
       "Asia popn       4169850000\n",
       "Europe popn      735395000\n",
       "Africa popn     1044107000\n",
       "America popn     943952000\n",
       "dtype: int64"
      ]
     },
     "execution_count": 7,
     "metadata": {},
     "output_type": "execute_result"
    }
   ],
   "source": [
    "popnpf = pf.drop(columns =['Year','World CO2','Asia CO2','Europe CO2', 'Australia CO2','Africa CO2','America CO2', 'World temp','World popn','Asia temp','Europe temp', 'Australia temp','Africa temp','America temp'])\n",
    "print('Maximum population')\n",
    "np.max(popnpf)"
   ]
  },
  {
   "cell_type": "code",
   "execution_count": 8,
   "metadata": {
    "scrolled": true
   },
   "outputs": [
    {
     "name": "stdout",
     "output_type": "stream",
     "text": [
      "Minimum tempreture\n"
     ]
    },
    {
     "data": {
      "text/plain": [
       "Asia popn       1394018000\n",
       "Europe popn      549089000\n",
       "Africa popn      228902000\n",
       "America popn     340459000\n",
       "dtype: int64"
      ]
     },
     "execution_count": 8,
     "metadata": {},
     "output_type": "execute_result"
    }
   ],
   "source": [
    "print('Minimum tempreture')\n",
    "np.min(popnpf)"
   ]
  },
  {
   "cell_type": "markdown",
   "metadata": {},
   "source": [
    "simple calculation of maximum and minumum values for all the avaliable continents for the variables\n"
   ]
  },
  {
   "cell_type": "markdown",
   "metadata": {},
   "source": [
    "### Diagrams(Histograms)"
   ]
  },
  {
   "cell_type": "code",
   "execution_count": 9,
   "metadata": {},
   "outputs": [
    {
     "name": "stdout",
     "output_type": "stream",
     "text": [
      "Histogram of continent and CO2 emmission\n"
     ]
    },
    {
     "data": {
      "text/plain": [
       "<matplotlib.legend.Legend at 0x233f259c9a0>"
      ]
     },
     "execution_count": 9,
     "metadata": {},
     "output_type": "execute_result"
    },
    {
     "data": {
      "image/png": "[encoded data removed]",
      "text/plain": [
       "<Figure size 720x720 with 1 Axes>"
      ]
     },
     "metadata": {
      "needs_background": "light"
     },
     "output_type": "display_data"
    }
   ],
   "source": [
    "ig = plt.figure(figsize=(10,10))\n",
    "print('Histogram of continent and CO2 emmission')\n",
    "continent = ['Asia','Europe','Australia','Africa','America']\n",
    "plt.hist(pf['Asia CO2'])\n",
    "plt.hist(pf['Europe CO2'])\n",
    "plt.hist(pf['Australia CO2'])\n",
    "plt.hist(pf['Africa CO2'])\n",
    "plt.hist(pf['America CO2'])\n",
    "plt.xlabel('CO2 emmission in E10')\n",
    "plt.ylabel('Counts')\n",
    "plt.gca().legend(continent, loc = 1)\n"
   ]
  },
  {
   "cell_type": "markdown",
   "metadata": {},
   "source": [
    "From the above histogram, its clear that the Blue continent which is Asia has the highest CO2 emmission overtime and the most spreaded one as well.\n",
    "\n",
    "Red continent, Africa has the least CO2 emmission in the record and the most stabl among the all. "
   ]
  },
  {
   "cell_type": "code",
   "execution_count": 10,
   "metadata": {
    "scrolled": true
   },
   "outputs": [
    {
     "name": "stdout",
     "output_type": "stream",
     "text": [
      "Histogram of continent and Tempreture\n"
     ]
    },
    {
     "data": {
      "text/plain": [
       "<matplotlib.legend.Legend at 0x233f269cc70>"
      ]
     },
     "execution_count": 10,
     "metadata": {},
     "output_type": "execute_result"
    },
    {
     "data": {
      "image/png": "[encoded data removed]",
      "text/plain": [
       "<Figure size 720x720 with 1 Axes>"
      ]
     },
     "metadata": {
      "needs_background": "light"
     },
     "output_type": "display_data"
    }
   ],
   "source": [
    "ig = plt.figure(figsize=(10,10))\n",
    "print('Histogram of continent and Tempreture')\n",
    "continent = ['Asia','Europe','Australia','Africa','America']\n",
    "plt.hist(pf['Asia temp'])\n",
    "plt.hist(pf['Europe temp'])\n",
    "plt.hist(pf['Australia temp'])\n",
    "plt.hist(pf['Africa temp'])\n",
    "plt.hist(pf['America temp'])\n",
    "plt.xlabel('Tempreture in Celcius')\n",
    "plt.ylabel('counts')\n",
    "plt.gca().legend(continent, loc = 1)"
   ]
  },
  {
   "cell_type": "markdown",
   "metadata": {},
   "source": [
    "A simple representation of tempreture of the continents, Europe having the lowest and Africa as the highest."
   ]
  },
  {
   "cell_type": "code",
   "execution_count": 11,
   "metadata": {
    "scrolled": true
   },
   "outputs": [
    {
     "name": "stdout",
     "output_type": "stream",
     "text": [
      "Histogram of continent and their population\n"
     ]
    },
    {
     "data": {
      "text/plain": [
       "<matplotlib.legend.Legend at 0x233f2771c40>"
      ]
     },
     "execution_count": 11,
     "metadata": {},
     "output_type": "execute_result"
    },
    {
     "data": {
      "image/png": "[encoded data removed]",
      "text/plain": [
       "<Figure size 720x720 with 1 Axes>"
      ]
     },
     "metadata": {
      "needs_background": "light"
     },
     "output_type": "display_data"
    }
   ],
   "source": [
    "ig = plt.figure(figsize=(10,10))\n",
    "print('Histogram of continent and their population')\n",
    "continent = ['Asia','Europe','Africa','America']\n",
    "plt.hist(pf['Asia popn'])\n",
    "plt.hist(pf['Europe popn'])\n",
    "plt.hist(pf['Africa popn'])\n",
    "plt.hist(pf['America popn'])\n",
    "plt.xlabel('population of continent in E9')\n",
    "plt.ylabel('counts')\n",
    "plt.gca().legend(continent, loc = 1)"
   ]
  },
  {
   "cell_type": "markdown",
   "metadata": {},
   "source": [
    "From the above histogram, it is visible that Asia has the largest population and europe has the least."
   ]
  },
  {
   "cell_type": "markdown",
   "metadata": {},
   "source": [
    "### Diagrams(Boxplots)"
   ]
  },
  {
   "cell_type": "code",
   "execution_count": 12,
   "metadata": {},
   "outputs": [
    {
     "name": "stdout",
     "output_type": "stream",
     "text": [
      "Boxplot of Continents CO2 emmission\n"
     ]
    },
    {
     "data": {
      "image/png": "[encoded data removed]",
      "text/plain": [
       "<Figure size 432x288 with 1 Axes>"
      ]
     },
     "metadata": {
      "needs_background": "light"
     },
     "output_type": "display_data"
    }
   ],
   "source": [
    "plt.boxplot([pf['Asia CO2'],pf['Europe CO2'], pf['Australia CO2'], pf['Africa CO2'], pf['America CO2']],labels=['Asia', 'Europe', 'Australia', 'Africa', 'America'])\n",
    "print('Boxplot of Continents CO2 emmission')"
   ]
  },
  {
   "cell_type": "code",
   "execution_count": 13,
   "metadata": {},
   "outputs": [
    {
     "name": "stdout",
     "output_type": "stream",
     "text": [
      "Box plot of Continents tempreture\n"
     ]
    },
    {
     "data": {
      "image/png": "[encoded data removed]",
      "text/plain": [
       "<Figure size 432x288 with 1 Axes>"
      ]
     },
     "metadata": {
      "needs_background": "light"
     },
     "output_type": "display_data"
    }
   ],
   "source": [
    "plt.ylabel('Tempreture of the continents')\n",
    "plt.boxplot([pf['Asia temp'],pf['Europe temp'], pf['Australia temp'], pf['Africa temp'], pf['America temp']], labels=['Asia', 'Europe', 'Australia', 'Africa', 'America'])\n",
    "print('Box plot of Continents tempreture')"
   ]
  },
  {
   "cell_type": "markdown",
   "metadata": {},
   "source": [
    "We can few quite some outliers for the autralia in the continents"
   ]
  },
  {
   "cell_type": "code",
   "execution_count": 14,
   "metadata": {},
   "outputs": [
    {
     "name": "stdout",
     "output_type": "stream",
     "text": [
      "Boxplot of the population of the continents\n"
     ]
    },
    {
     "data": {
      "image/png": "[encoded data removed]",
      "text/plain": [
       "<Figure size 432x288 with 1 Axes>"
      ]
     },
     "metadata": {
      "needs_background": "light"
     },
     "output_type": "display_data"
    }
   ],
   "source": [
    "plt.ylabel('Population of the continent')\n",
    "plt.boxplot([pf['Asia popn'],pf['Europe popn'], pf['Africa popn'], pf['America popn']],labels=['Asia', 'Europe', 'Africa', 'America'])\n",
    "print('Boxplot of the population of the continents')"
   ]
  },
  {
   "cell_type": "markdown",
   "metadata": {},
   "source": [
    "The boxplot confirms us all the information we received from the histograms.\n"
   ]
  },
  {
   "cell_type": "markdown",
   "metadata": {},
   "source": [
    "It is clearly seen that the Asia has the largest number of population and lergest emmission as well. and Africa having lower population with lower emmission of CO2,\n",
    "Europe counters the simple analysis determining population is not always the reason for the CO2 emmission.\n",
    "However, the world data gives high positive correlation between the population and the CO2 emmission as we will see in the project."
   ]
  },
  {
   "cell_type": "markdown",
   "metadata": {},
   "source": [
    "### Comparision Between Variables"
   ]
  },
  {
   "cell_type": "code",
   "execution_count": 15,
   "metadata": {
    "scrolled": true
   },
   "outputs": [
    {
     "data": {
      "text/plain": [
       "Text(0.5, 0.92, 'World CO2 emmission VS world tempreture')"
      ]
     },
     "execution_count": 15,
     "metadata": {},
     "output_type": "execute_result"
    },
    {
     "data": {
      "image/png": "[encoded data removed]",
      "text/plain": [
       "<Figure size 720x720 with 1 Axes>"
      ]
     },
     "metadata": {
      "needs_background": "light"
     },
     "output_type": "display_data"
    }
   ],
   "source": [
    "fig = plt.figure(figsize=(10,10))\n",
    "plt.scatter(pf['World CO2'], pf['World temp'])\n",
    "plt.xlabel('World CO2 emmission')\n",
    "plt.ylabel('World tempreture')\n",
    "fig.suptitle('World CO2 emmission VS world tempreture', fontsize=15, y=0.92)\n"
   ]
  },
  {
   "cell_type": "code",
   "execution_count": 16,
   "metadata": {},
   "outputs": [
    {
     "name": "stdout",
     "output_type": "stream",
     "text": [
      "Correlation: 0.9111\n"
     ]
    }
   ],
   "source": [
    "print('Correlation:', np.round(stats.pearsonr(pf['World CO2'], pf['World temp'])[0], 4))"
   ]
  },
  {
   "cell_type": "markdown",
   "metadata": {},
   "source": [
    "the relationship between world CO2 emmission and tempreture has a high correlation of 0.91, but fails to be linear."
   ]
  },
  {
   "cell_type": "code",
   "execution_count": 17,
   "metadata": {},
   "outputs": [],
   "source": [
    "def evaluate_linear_relationship(a, b):\n",
    "    slope = np.cov(a, b, bias=True)[0][1] / np.var(a)\n",
    "    intercept = np.mean(b) - (slope * np.mean(a))\n",
    "    predictions = (slope * a) + intercept\n",
    "    residuals = b - predictions\n",
    "    return slope, intercept, predictions, residuals\n",
    "slope, intercept, predictions, residuals = evaluate_linear_relationship(pf['World popn'], pf['World CO2'])\n",
    "sorted_order = np.argsort(pf['World CO2'])"
   ]
  },
  {
   "cell_type": "code",
   "execution_count": 18,
   "metadata": {
    "scrolled": true
   },
   "outputs": [
    {
     "data": {
      "text/plain": [
       "Text(0.5, 0.92, 'World CO2 emmission VS tempreture')"
      ]
     },
     "execution_count": 18,
     "metadata": {},
     "output_type": "execute_result"
    },
    {
     "data": {
      "image/png": "[encoded data removed]",
      "text/plain": [
       "<Figure size 720x720 with 1 Axes>"
      ]
     },
     "metadata": {
      "needs_background": "light"
     },
     "output_type": "display_data"
    }
   ],
   "source": [
    "fig = plt.figure(figsize=(10,10))\n",
    "plt.scatter(np.power(pf['World CO2'], 2.5), np.exp(pf['World temp']))\n",
    "plt.xlabel('Power 2.5 of World CO2 Emmsission')\n",
    "plt.ylabel('exp of World tempreture')\n",
    "fig.suptitle('World CO2 emmission VS tempreture', fontsize=15, y=0.92)"
   ]
  },
  {
   "cell_type": "code",
   "execution_count": 19,
   "metadata": {},
   "outputs": [
    {
     "name": "stdout",
     "output_type": "stream",
     "text": [
      "Correlation: 0.9625\n"
     ]
    }
   ],
   "source": [
    "print('Correlation:', np.round(stats.pearsonr(np.power(pf['World CO2'],2.5), np.exp(pf['World temp']))[0], 4))\n"
   ]
  },
  {
   "cell_type": "code",
   "execution_count": 20,
   "metadata": {},
   "outputs": [],
   "source": [
    "slope, intercept, predictions, residuals = evaluate_linear_relationship(np.power(pf['World CO2'],2.5), np.exp(pf['World temp']))\n",
    "sorted_order = np.argsort(np.power(pf['World CO2'], 2.5))"
   ]
  },
  {
   "cell_type": "code",
   "execution_count": 21,
   "metadata": {
    "scrolled": true
   },
   "outputs": [
    {
     "data": {
      "text/plain": [
       "Text(0.5, 0.92, 'World CO2 emmission VS tempreture')"
      ]
     },
     "execution_count": 21,
     "metadata": {},
     "output_type": "execute_result"
    },
    {
     "data": {
      "image/png": "[encoded data removed]",
      "text/plain": [
       "<Figure size 720x720 with 1 Axes>"
      ]
     },
     "metadata": {
      "needs_background": "light"
     },
     "output_type": "display_data"
    }
   ],
   "source": [
    "fig = plt.figure(figsize=(10,10))\n",
    "plt.scatter(np.power(pf['World CO2'], 2.5), np.exp(pf['World temp']))\n",
    "plt.plot(np.power(pf['World CO2'][sorted_order], 2.5), predictions[sorted_order])\n",
    "plt.xlabel('Power 4.5 of World CO2 Emmsission')\n",
    "plt.ylabel('exp of World tempreture')\n",
    "fig.suptitle('World CO2 emmission VS tempreture', fontsize=15, y=0.92)"
   ]
  },
  {
   "cell_type": "markdown",
   "metadata": {},
   "source": [
    "the values are now transformed by adding the power by 2.5 on the CO2 emmision and using exponention on the World tempreture which gives us more linear report increasing the correlation fo 0.96 which is very high."
   ]
  },
  {
   "cell_type": "code",
   "execution_count": 22,
   "metadata": {
    "scrolled": true
   },
   "outputs": [
    {
     "data": {
      "text/plain": [
       "Text(0.5, 0.92, 'World Population VS World CO2 emmision ')"
      ]
     },
     "execution_count": 22,
     "metadata": {},
     "output_type": "execute_result"
    },
    {
     "data": {
      "image/png": "[encoded data removed]",
      "text/plain": [
       "<Figure size 720x720 with 1 Axes>"
      ]
     },
     "metadata": {
      "needs_background": "light"
     },
     "output_type": "display_data"
    }
   ],
   "source": [
    "fig = plt.figure(figsize=(10,10))\n",
    "plt.scatter(pf['World popn'], pf['World CO2'])\n",
    "plt.xlabel('World population')\n",
    "plt.ylabel('World CO2 emmission')\n",
    "fig.suptitle('World Population VS World CO2 emmision ', fontsize=15, y=0.92)\n",
    "\n"
   ]
  },
  {
   "cell_type": "code",
   "execution_count": 23,
   "metadata": {},
   "outputs": [
    {
     "name": "stdout",
     "output_type": "stream",
     "text": [
      "Correlation: 0.9849\n"
     ]
    }
   ],
   "source": [
    "print('Correlation:', np.round(stats.pearsonr(pf['World popn'], pf['World CO2'])[0], 4))"
   ]
  },
  {
   "cell_type": "markdown",
   "metadata": {},
   "source": [
    "# Regression model on CO2 emmission from 1950 - 2010\n"
   ]
  },
  {
   "cell_type": "code",
   "execution_count": 24,
   "metadata": {},
   "outputs": [
    {
     "name": "stderr",
     "output_type": "stream",
     "text": [
      "<ipython-input-24-4608fa9a3f6e>:2: SettingWithCopyWarning: \n",
      "A value is trying to be set on a copy of a slice from a DataFrame.\n",
      "Try using .loc[row_indexer,col_indexer] = value instead\n",
      "\n",
      "See the caveats in the documentation: https://pandas.pydata.org/pandas-docs/stable/user_guide/indexing.html#returning-a-view-versus-a-copy\n",
      "  cf['Year_Since_1950']=cf['Year']-1949\n"
     ]
    },
    {
     "data": {
      "text/html": [
       "<div>\n",
       "<style scoped>\n",
       "    .dataframe tbody tr th:only-of-type {\n",
       "        vertical-align: middle;\n",
       "    }\n",
       "\n",
       "    .dataframe tbody tr th {\n",
       "        vertical-align: top;\n",
       "    }\n",
       "\n",
       "    .dataframe thead th {\n",
       "        text-align: right;\n",
       "    }\n",
       "</style>\n",
       "<table border=\"1\" class=\"dataframe\">\n",
       "  <thead>\n",
       "    <tr style=\"text-align: right;\">\n",
       "      <th></th>\n",
       "      <th>Year</th>\n",
       "      <th>World CO2</th>\n",
       "      <th>Year_Since_1950</th>\n",
       "    </tr>\n",
       "  </thead>\n",
       "  <tbody>\n",
       "    <tr>\n",
       "      <th>0</th>\n",
       "      <td>1950</td>\n",
       "      <td>5786141168</td>\n",
       "      <td>1</td>\n",
       "    </tr>\n",
       "    <tr>\n",
       "      <th>1</th>\n",
       "      <td>1951</td>\n",
       "      <td>6226396416</td>\n",
       "      <td>2</td>\n",
       "    </tr>\n",
       "    <tr>\n",
       "      <th>2</th>\n",
       "      <td>1952</td>\n",
       "      <td>6310375296</td>\n",
       "      <td>3</td>\n",
       "    </tr>\n",
       "    <tr>\n",
       "      <th>3</th>\n",
       "      <td>1953</td>\n",
       "      <td>6486280272</td>\n",
       "      <td>4</td>\n",
       "    </tr>\n",
       "    <tr>\n",
       "      <th>4</th>\n",
       "      <td>1954</td>\n",
       "      <td>6629183600</td>\n",
       "      <td>5</td>\n",
       "    </tr>\n",
       "  </tbody>\n",
       "</table>\n",
       "</div>"
      ],
      "text/plain": [
       "   Year   World CO2  Year_Since_1950\n",
       "0  1950  5786141168                1\n",
       "1  1951  6226396416                2\n",
       "2  1952  6310375296                3\n",
       "3  1953  6486280272                4\n",
       "4  1954  6629183600                5"
      ]
     },
     "execution_count": 24,
     "metadata": {},
     "output_type": "execute_result"
    }
   ],
   "source": [
    "cf = pf[['Year','World CO2']]\n",
    "cf['Year_Since_1950']=cf['Year']-1949\n",
    "cf.head()"
   ]
  },
  {
   "cell_type": "code",
   "execution_count": 25,
   "metadata": {
    "scrolled": true
   },
   "outputs": [
    {
     "name": "stderr",
     "output_type": "stream",
     "text": [
      "<ipython-input-25-f06924af12cd>:1: SettingWithCopyWarning: \n",
      "A value is trying to be set on a copy of a slice from a DataFrame.\n",
      "Try using .loc[row_indexer,col_indexer] = value instead\n",
      "\n",
      "See the caveats in the documentation: https://pandas.pydata.org/pandas-docs/stable/user_guide/indexing.html#returning-a-view-versus-a-copy\n",
      "  cf['Years_Deviation'] = cf['Year_Since_1950'] - cf['Year_Since_1950'].mean()\n",
      "<ipython-input-25-f06924af12cd>:2: SettingWithCopyWarning: \n",
      "A value is trying to be set on a copy of a slice from a DataFrame.\n",
      "Try using .loc[row_indexer,col_indexer] = value instead\n",
      "\n",
      "See the caveats in the documentation: https://pandas.pydata.org/pandas-docs/stable/user_guide/indexing.html#returning-a-view-versus-a-copy\n",
      "  cf['CO2_Deviation'] = cf['World CO2'] - cf['World CO2'].mean()\n",
      "<ipython-input-25-f06924af12cd>:3: SettingWithCopyWarning: \n",
      "A value is trying to be set on a copy of a slice from a DataFrame.\n",
      "Try using .loc[row_indexer,col_indexer] = value instead\n",
      "\n",
      "See the caveats in the documentation: https://pandas.pydata.org/pandas-docs/stable/user_guide/indexing.html#returning-a-view-versus-a-copy\n",
      "  cf['Years_Diff * CO2_Diff'] = (cf['Years_Deviation'] * cf['CO2_Deviation'])\n",
      "<ipython-input-25-f06924af12cd>:4: SettingWithCopyWarning: \n",
      "A value is trying to be set on a copy of a slice from a DataFrame.\n",
      "Try using .loc[row_indexer,col_indexer] = value instead\n",
      "\n",
      "See the caveats in the documentation: https://pandas.pydata.org/pandas-docs/stable/user_guide/indexing.html#returning-a-view-versus-a-copy\n",
      "  cf['slope'] = cf['Years_Diff * CO2_Diff'].mean() / np.var(cf['Year_Since_1950'])\n",
      "<ipython-input-25-f06924af12cd>:5: SettingWithCopyWarning: \n",
      "A value is trying to be set on a copy of a slice from a DataFrame.\n",
      "Try using .loc[row_indexer,col_indexer] = value instead\n",
      "\n",
      "See the caveats in the documentation: https://pandas.pydata.org/pandas-docs/stable/user_guide/indexing.html#returning-a-view-versus-a-copy\n",
      "  cf['intercept'] = cf['World CO2'].mean() - ((cf['Years_Diff * CO2_Diff'].mean() / np.var(cf['Year_Since_1950'])) * cf['Year_Since_1950'].mean())\n",
      "<ipython-input-25-f06924af12cd>:6: SettingWithCopyWarning: \n",
      "A value is trying to be set on a copy of a slice from a DataFrame.\n",
      "Try using .loc[row_indexer,col_indexer] = value instead\n",
      "\n",
      "See the caveats in the documentation: https://pandas.pydata.org/pandas-docs/stable/user_guide/indexing.html#returning-a-view-versus-a-copy\n",
      "  cf['Predictions'] = cf['intercept'] + (cf['slope'] * cf['Year_Since_1950'])\n",
      "<ipython-input-25-f06924af12cd>:7: SettingWithCopyWarning: \n",
      "A value is trying to be set on a copy of a slice from a DataFrame.\n",
      "Try using .loc[row_indexer,col_indexer] = value instead\n",
      "\n",
      "See the caveats in the documentation: https://pandas.pydata.org/pandas-docs/stable/user_guide/indexing.html#returning-a-view-versus-a-copy\n",
      "  cf['Residuals'] = cf['Predictions'] - cf['World CO2']\n",
      "<ipython-input-25-f06924af12cd>:8: SettingWithCopyWarning: \n",
      "A value is trying to be set on a copy of a slice from a DataFrame.\n",
      "Try using .loc[row_indexer,col_indexer] = value instead\n",
      "\n",
      "See the caveats in the documentation: https://pandas.pydata.org/pandas-docs/stable/user_guide/indexing.html#returning-a-view-versus-a-copy\n",
      "  cf['Squared_Residuals'] = np.power(cf['Residuals'], 2)\n"
     ]
    }
   ],
   "source": [
    "cf['Years_Deviation'] = cf['Year_Since_1950'] - cf['Year_Since_1950'].mean()\n",
    "cf['CO2_Deviation'] = cf['World CO2'] - cf['World CO2'].mean()\n",
    "cf['Years_Diff * CO2_Diff'] = (cf['Years_Deviation'] * cf['CO2_Deviation'])\n",
    "cf['slope'] = cf['Years_Diff * CO2_Diff'].mean() / np.var(cf['Year_Since_1950'])\n",
    "cf['intercept'] = cf['World CO2'].mean() - ((cf['Years_Diff * CO2_Diff'].mean() / np.var(cf['Year_Since_1950'])) * cf['Year_Since_1950'].mean())\n",
    "cf['Predictions'] = cf['intercept'] + (cf['slope'] * cf['Year_Since_1950'])\n",
    "cf['Residuals'] = cf['Predictions'] - cf['World CO2']\n",
    "cf['Squared_Residuals'] = np.power(cf['Residuals'], 2)"
   ]
  },
  {
   "cell_type": "code",
   "execution_count": 26,
   "metadata": {
    "scrolled": false
   },
   "outputs": [
    {
     "name": "stdout",
     "output_type": "stream",
     "text": [
      "Covariance: 129496631556.49\n",
      "Years Standard Deviation: 17.61\n",
      "CO2 Standard Deviation: 7431914273.42\n",
      "Correlation: 0.99 Strong Positive Correlation\n"
     ]
    },
    {
     "data": {
      "text/html": [
       "<div>\n",
       "<style scoped>\n",
       "    .dataframe tbody tr th:only-of-type {\n",
       "        vertical-align: middle;\n",
       "    }\n",
       "\n",
       "    .dataframe tbody tr th {\n",
       "        vertical-align: top;\n",
       "    }\n",
       "\n",
       "    .dataframe thead th {\n",
       "        text-align: right;\n",
       "    }\n",
       "</style>\n",
       "<table border=\"1\" class=\"dataframe\">\n",
       "  <thead>\n",
       "    <tr style=\"text-align: right;\">\n",
       "      <th></th>\n",
       "      <th>Year_Since_1950</th>\n",
       "      <th>World CO2</th>\n",
       "      <th>Years_Deviation</th>\n",
       "      <th>CO2_Deviation</th>\n",
       "      <th>Years_Diff * CO2_Diff</th>\n",
       "    </tr>\n",
       "  </thead>\n",
       "  <tbody>\n",
       "    <tr>\n",
       "      <th>0</th>\n",
       "      <td>1</td>\n",
       "      <td>5786141168</td>\n",
       "      <td>-30.0</td>\n",
       "      <td>-1.228298e+10</td>\n",
       "      <td>3.684895e+11</td>\n",
       "    </tr>\n",
       "    <tr>\n",
       "      <th>1</th>\n",
       "      <td>2</td>\n",
       "      <td>6226396416</td>\n",
       "      <td>-29.0</td>\n",
       "      <td>-1.184273e+10</td>\n",
       "      <td>3.434391e+11</td>\n",
       "    </tr>\n",
       "    <tr>\n",
       "      <th>2</th>\n",
       "      <td>3</td>\n",
       "      <td>6310375296</td>\n",
       "      <td>-28.0</td>\n",
       "      <td>-1.175875e+10</td>\n",
       "      <td>3.292450e+11</td>\n",
       "    </tr>\n",
       "    <tr>\n",
       "      <th>3</th>\n",
       "      <td>4</td>\n",
       "      <td>6486280272</td>\n",
       "      <td>-27.0</td>\n",
       "      <td>-1.158284e+10</td>\n",
       "      <td>3.127368e+11</td>\n",
       "    </tr>\n",
       "    <tr>\n",
       "      <th>4</th>\n",
       "      <td>5</td>\n",
       "      <td>6629183600</td>\n",
       "      <td>-26.0</td>\n",
       "      <td>-1.143994e+10</td>\n",
       "      <td>2.974385e+11</td>\n",
       "    </tr>\n",
       "  </tbody>\n",
       "</table>\n",
       "</div>"
      ],
      "text/plain": [
       "   Year_Since_1950   World CO2  Years_Deviation  CO2_Deviation  \\\n",
       "0                1  5786141168            -30.0  -1.228298e+10   \n",
       "1                2  6226396416            -29.0  -1.184273e+10   \n",
       "2                3  6310375296            -28.0  -1.175875e+10   \n",
       "3                4  6486280272            -27.0  -1.158284e+10   \n",
       "4                5  6629183600            -26.0  -1.143994e+10   \n",
       "\n",
       "   Years_Diff * CO2_Diff  \n",
       "0           3.684895e+11  \n",
       "1           3.434391e+11  \n",
       "2           3.292450e+11  \n",
       "3           3.127368e+11  \n",
       "4           2.974385e+11  "
      ]
     },
     "execution_count": 26,
     "metadata": {},
     "output_type": "execute_result"
    }
   ],
   "source": [
    "print('Covariance:', np.round(cf['Years_Diff * CO2_Diff'].mean(), 2))\n",
    "print('Years Standard Deviation:', np.round(np.std(cf['Year']), 2))\n",
    "print('CO2 Standard Deviation:', np.round(np.std(cf['World CO2']), 2))\n",
    "print('Correlation:', np.round((129496631556.4918)/(17.6068 * 7431914273.4239), 2), 'Strong Positive Correlation')\n",
    "cf[['Year_Since_1950', 'World CO2', 'Years_Deviation', 'CO2_Deviation', 'Years_Diff * CO2_Diff']].head()"
   ]
  },
  {
   "cell_type": "markdown",
   "metadata": {},
   "source": [
    "Based on the values we calcualted, with very strong positive correllation of 0.99 relationship between them is expected to be linear"
   ]
  },
  {
   "cell_type": "code",
   "execution_count": 27,
   "metadata": {
    "scrolled": true
   },
   "outputs": [
    {
     "name": "stdout",
     "output_type": "stream",
     "text": [
      "Expected Years: 31.0\n",
      "Expected CO2 emmission: 18069124962.41\n"
     ]
    },
    {
     "data": {
      "text/html": [
       "<div>\n",
       "<style scoped>\n",
       "    .dataframe tbody tr th:only-of-type {\n",
       "        vertical-align: middle;\n",
       "    }\n",
       "\n",
       "    .dataframe tbody tr th {\n",
       "        vertical-align: top;\n",
       "    }\n",
       "\n",
       "    .dataframe thead th {\n",
       "        text-align: right;\n",
       "    }\n",
       "</style>\n",
       "<table border=\"1\" class=\"dataframe\">\n",
       "  <thead>\n",
       "    <tr style=\"text-align: right;\">\n",
       "      <th></th>\n",
       "      <th>Year</th>\n",
       "      <th>World CO2</th>\n",
       "      <th>Predictions</th>\n",
       "    </tr>\n",
       "  </thead>\n",
       "  <tbody>\n",
       "    <tr>\n",
       "      <th>0</th>\n",
       "      <td>1950</td>\n",
       "      <td>5786141168</td>\n",
       "      <td>5.537193e+09</td>\n",
       "    </tr>\n",
       "    <tr>\n",
       "      <th>1</th>\n",
       "      <td>1951</td>\n",
       "      <td>6226396416</td>\n",
       "      <td>5.954924e+09</td>\n",
       "    </tr>\n",
       "    <tr>\n",
       "      <th>2</th>\n",
       "      <td>1952</td>\n",
       "      <td>6310375296</td>\n",
       "      <td>6.372655e+09</td>\n",
       "    </tr>\n",
       "    <tr>\n",
       "      <th>3</th>\n",
       "      <td>1953</td>\n",
       "      <td>6486280272</td>\n",
       "      <td>6.790386e+09</td>\n",
       "    </tr>\n",
       "    <tr>\n",
       "      <th>4</th>\n",
       "      <td>1954</td>\n",
       "      <td>6629183600</td>\n",
       "      <td>7.208117e+09</td>\n",
       "    </tr>\n",
       "    <tr>\n",
       "      <th>...</th>\n",
       "      <td>...</td>\n",
       "      <td>...</td>\n",
       "      <td>...</td>\n",
       "    </tr>\n",
       "    <tr>\n",
       "      <th>56</th>\n",
       "      <td>2006</td>\n",
       "      <td>30286836386</td>\n",
       "      <td>2.893013e+10</td>\n",
       "    </tr>\n",
       "    <tr>\n",
       "      <th>57</th>\n",
       "      <td>2007</td>\n",
       "      <td>30880145296</td>\n",
       "      <td>2.934786e+10</td>\n",
       "    </tr>\n",
       "    <tr>\n",
       "      <th>58</th>\n",
       "      <td>2008</td>\n",
       "      <td>31875755797</td>\n",
       "      <td>2.976559e+10</td>\n",
       "    </tr>\n",
       "    <tr>\n",
       "      <th>59</th>\n",
       "      <td>2009</td>\n",
       "      <td>31523142973</td>\n",
       "      <td>3.018333e+10</td>\n",
       "    </tr>\n",
       "    <tr>\n",
       "      <th>60</th>\n",
       "      <td>2010</td>\n",
       "      <td>33066651212</td>\n",
       "      <td>3.060106e+10</td>\n",
       "    </tr>\n",
       "  </tbody>\n",
       "</table>\n",
       "<p>61 rows × 3 columns</p>\n",
       "</div>"
      ],
      "text/plain": [
       "    Year    World CO2   Predictions\n",
       "0   1950   5786141168  5.537193e+09\n",
       "1   1951   6226396416  5.954924e+09\n",
       "2   1952   6310375296  6.372655e+09\n",
       "3   1953   6486280272  6.790386e+09\n",
       "4   1954   6629183600  7.208117e+09\n",
       "..   ...          ...           ...\n",
       "56  2006  30286836386  2.893013e+10\n",
       "57  2007  30880145296  2.934786e+10\n",
       "58  2008  31875755797  2.976559e+10\n",
       "59  2009  31523142973  3.018333e+10\n",
       "60  2010  33066651212  3.060106e+10\n",
       "\n",
       "[61 rows x 3 columns]"
      ]
     },
     "execution_count": 27,
     "metadata": {},
     "output_type": "execute_result"
    }
   ],
   "source": [
    "print('Expected Years:', cf['Year_Since_1950'].mean())\n",
    "print('Expected CO2 emmission:', np.round(cf['World CO2'].mean(), 2))\n",
    "cf[['Year', 'World CO2','Predictions']]"
   ]
  },
  {
   "cell_type": "code",
   "execution_count": 32,
   "metadata": {},
   "outputs": [],
   "source": [
    "slope, intercept, predictions, residuals = evaluate_linear_relationship(cf['Year_Since_1950'], cf['World CO2'])\n"
   ]
  },
  {
   "cell_type": "code",
   "execution_count": 33,
   "metadata": {},
   "outputs": [
    {
     "data": {
      "text/plain": [
       "Text(0.5, 0.92, 'History of CO2 emmission Since 1950')"
      ]
     },
     "execution_count": 33,
     "metadata": {},
     "output_type": "execute_result"
    },
    {
     "data": {
      "image/png": "[encoded data removed]",
      "text/plain": [
       "<Figure size 720x720 with 1 Axes>"
      ]
     },
     "metadata": {
      "needs_background": "light"
     },
     "output_type": "display_data"
    }
   ],
   "source": [
    "fig = plt.figure(figsize=(10,10))\n",
    "plt.scatter(cf['Year_Since_1950'], cf['World CO2'])\n",
    "sorted_order = np.argsort(cf['Year_Since_1950'])\n",
    "plt.plot(cf['Year_Since_1950'][sorted_order],predictions[sorted_order])\n",
    "plt.xlabel('Year since 1950')\n",
    "plt.ylabel('World CO2')\n",
    "fig.suptitle('History of CO2 emmission Since 1950', fontsize=15, y=0.92)\n"
   ]
  }
 ],
 "metadata": {
  "kernelspec": {
   "display_name": "Python 3",
   "language": "python",
   "name": "python3"
  },
  "language_info": {
   "codemirror_mode": {
    "name": "ipython",
    "version": 3
   },
   "file_extension": ".py",
   "mimetype": "text/x-python",
   "name": "python",
   "nbconvert_exporter": "python",
   "pygments_lexer": "ipython3",
   "version": "3.8.8"
  }
 },
 "nbformat": 4,
 "nbformat_minor": 2
}
