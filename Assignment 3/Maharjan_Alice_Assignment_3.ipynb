{
 "cells": [
  {
   "cell_type": "markdown",
   "metadata": {},
   "source": [
    "<a href=\"https://colab.research.google.com/github/profmcnich/example_notebook/blob/main/a3_sample_notebook.ipynb\" target=\"_parent\"><img src=\"https://colab.research.google.com/assets/colab-badge.svg\" alt=\"Open In Colab\"/></a>\n",
    "\n",
    "\\(\\^Be sure to update this button to point to your notebook instead of the sample notebook\\)"
   ]
  },
  {
   "cell_type": "code",
   "execution_count": 1,
   "metadata": {},
   "outputs": [],
   "source": [
    "# Imports section\n",
    "import pandas as pd\n",
    "import numpy as np\n",
    "from sklearn.model_selection import train_test_split\n",
    "from sklearn.linear_model import LinearRegression\n",
    "from sklearn.model_selection import cross_val_score\n",
    "from sklearn.preprocessing import PolynomialFeatures\n",
    "from sklearn.linear_model import BayesianRidge"
   ]
  },
  {
   "cell_type": "markdown",
   "metadata": {},
   "source": [
    "## Part 1. Loading the dataset"
   ]
  },
  {
   "cell_type": "code",
   "execution_count": 2,
   "metadata": {},
   "outputs": [],
   "source": [
    "# Using pandas load the dataset (load remotely, not locally)\n",
    "# Output the first 15 rows of the data\n",
    "# Display a summary of the table information (number of datapoints, etc.)"
   ]
  },
  {
   "cell_type": "code",
   "execution_count": 3,
   "metadata": {},
   "outputs": [
    {
     "data": {
      "text/html": [
       "<div>\n",
       "<style scoped>\n",
       "    .dataframe tbody tr th:only-of-type {\n",
       "        vertical-align: middle;\n",
       "    }\n",
       "\n",
       "    .dataframe tbody tr th {\n",
       "        vertical-align: top;\n",
       "    }\n",
       "\n",
       "    .dataframe thead th {\n",
       "        text-align: right;\n",
       "    }\n",
       "</style>\n",
       "<table border=\"1\" class=\"dataframe\">\n",
       "  <thead>\n",
       "    <tr style=\"text-align: right;\">\n",
       "      <th></th>\n",
       "      <th>Temperature °C</th>\n",
       "      <th>Mols KCL</th>\n",
       "      <th>Size nm^3</th>\n",
       "    </tr>\n",
       "  </thead>\n",
       "  <tbody>\n",
       "    <tr>\n",
       "      <th>0</th>\n",
       "      <td>469</td>\n",
       "      <td>647</td>\n",
       "      <td>6.244743e+05</td>\n",
       "    </tr>\n",
       "    <tr>\n",
       "      <th>1</th>\n",
       "      <td>403</td>\n",
       "      <td>694</td>\n",
       "      <td>5.779610e+05</td>\n",
       "    </tr>\n",
       "    <tr>\n",
       "      <th>2</th>\n",
       "      <td>302</td>\n",
       "      <td>975</td>\n",
       "      <td>6.196847e+05</td>\n",
       "    </tr>\n",
       "    <tr>\n",
       "      <th>3</th>\n",
       "      <td>779</td>\n",
       "      <td>916</td>\n",
       "      <td>1.460449e+06</td>\n",
       "    </tr>\n",
       "    <tr>\n",
       "      <th>4</th>\n",
       "      <td>901</td>\n",
       "      <td>18</td>\n",
       "      <td>4.325726e+04</td>\n",
       "    </tr>\n",
       "    <tr>\n",
       "      <th>5</th>\n",
       "      <td>545</td>\n",
       "      <td>637</td>\n",
       "      <td>7.124634e+05</td>\n",
       "    </tr>\n",
       "    <tr>\n",
       "      <th>6</th>\n",
       "      <td>660</td>\n",
       "      <td>519</td>\n",
       "      <td>7.006960e+05</td>\n",
       "    </tr>\n",
       "    <tr>\n",
       "      <th>7</th>\n",
       "      <td>143</td>\n",
       "      <td>869</td>\n",
       "      <td>2.718260e+05</td>\n",
       "    </tr>\n",
       "    <tr>\n",
       "      <th>8</th>\n",
       "      <td>89</td>\n",
       "      <td>461</td>\n",
       "      <td>8.919803e+04</td>\n",
       "    </tr>\n",
       "    <tr>\n",
       "      <th>9</th>\n",
       "      <td>294</td>\n",
       "      <td>776</td>\n",
       "      <td>4.770210e+05</td>\n",
       "    </tr>\n",
       "    <tr>\n",
       "      <th>10</th>\n",
       "      <td>991</td>\n",
       "      <td>117</td>\n",
       "      <td>2.441771e+05</td>\n",
       "    </tr>\n",
       "    <tr>\n",
       "      <th>11</th>\n",
       "      <td>307</td>\n",
       "      <td>781</td>\n",
       "      <td>5.006455e+05</td>\n",
       "    </tr>\n",
       "    <tr>\n",
       "      <th>12</th>\n",
       "      <td>206</td>\n",
       "      <td>70</td>\n",
       "      <td>3.145200e+04</td>\n",
       "    </tr>\n",
       "    <tr>\n",
       "      <th>13</th>\n",
       "      <td>437</td>\n",
       "      <td>599</td>\n",
       "      <td>5.390215e+05</td>\n",
       "    </tr>\n",
       "    <tr>\n",
       "      <th>14</th>\n",
       "      <td>566</td>\n",
       "      <td>75</td>\n",
       "      <td>9.185271e+04</td>\n",
       "    </tr>\n",
       "  </tbody>\n",
       "</table>\n",
       "</div>"
      ],
      "text/plain": [
       "    Temperature °C  Mols KCL     Size nm^3\n",
       "0              469       647  6.244743e+05\n",
       "1              403       694  5.779610e+05\n",
       "2              302       975  6.196847e+05\n",
       "3              779       916  1.460449e+06\n",
       "4              901        18  4.325726e+04\n",
       "5              545       637  7.124634e+05\n",
       "6              660       519  7.006960e+05\n",
       "7              143       869  2.718260e+05\n",
       "8               89       461  8.919803e+04\n",
       "9              294       776  4.770210e+05\n",
       "10             991       117  2.441771e+05\n",
       "11             307       781  5.006455e+05\n",
       "12             206        70  3.145200e+04\n",
       "13             437       599  5.390215e+05\n",
       "14             566        75  9.185271e+04"
      ]
     },
     "execution_count": 3,
     "metadata": {},
     "output_type": "execute_result"
    }
   ],
   "source": [
    "\n",
    "slime_data = pd.read_csv(\"https://raw.githubusercontent.com/profmcnich/example_notebook/main/science_data_large.csv\")\n",
    "slime_data.head(15)\n"
   ]
  },
  {
   "cell_type": "code",
   "execution_count": 4,
   "metadata": {},
   "outputs": [
    {
     "data": {
      "text/plain": [
       "Temperature °C      int64\n",
       "Mols KCL            int64\n",
       "Size nm^3         float64\n",
       "dtype: object"
      ]
     },
     "execution_count": 4,
     "metadata": {},
     "output_type": "execute_result"
    }
   ],
   "source": [
    "slime_data.dtypes"
   ]
  },
  {
   "cell_type": "code",
   "execution_count": 5,
   "metadata": {},
   "outputs": [
    {
     "data": {
      "text/plain": [
       "<bound method DataFrame.info of      Temperature °C  Mols KCL     Size nm^3\n",
       "0               469       647  6.244743e+05\n",
       "1               403       694  5.779610e+05\n",
       "2               302       975  6.196847e+05\n",
       "3               779       916  1.460449e+06\n",
       "4               901        18  4.325726e+04\n",
       "..              ...       ...           ...\n",
       "995             894       847  1.545661e+06\n",
       "996             327       982  6.737041e+05\n",
       "997             791       213  3.477543e+05\n",
       "998             769       553  8.684794e+05\n",
       "999             919       452  8.476413e+05\n",
       "\n",
       "[1000 rows x 3 columns]>"
      ]
     },
     "execution_count": 5,
     "metadata": {},
     "output_type": "execute_result"
    }
   ],
   "source": [
    "slime_data.info"
   ]
  },
  {
   "cell_type": "code",
   "execution_count": 6,
   "metadata": {},
   "outputs": [
    {
     "data": {
      "text/html": [
       "<div>\n",
       "<style scoped>\n",
       "    .dataframe tbody tr th:only-of-type {\n",
       "        vertical-align: middle;\n",
       "    }\n",
       "\n",
       "    .dataframe tbody tr th {\n",
       "        vertical-align: top;\n",
       "    }\n",
       "\n",
       "    .dataframe thead th {\n",
       "        text-align: right;\n",
       "    }\n",
       "</style>\n",
       "<table border=\"1\" class=\"dataframe\">\n",
       "  <thead>\n",
       "    <tr style=\"text-align: right;\">\n",
       "      <th></th>\n",
       "      <th>Temperature °C</th>\n",
       "      <th>Mols KCL</th>\n",
       "      <th>Size nm^3</th>\n",
       "    </tr>\n",
       "  </thead>\n",
       "  <tbody>\n",
       "    <tr>\n",
       "      <th>count</th>\n",
       "      <td>1000.000000</td>\n",
       "      <td>1000.000000</td>\n",
       "      <td>1.000000e+03</td>\n",
       "    </tr>\n",
       "    <tr>\n",
       "      <th>mean</th>\n",
       "      <td>500.500000</td>\n",
       "      <td>471.530000</td>\n",
       "      <td>5.086111e+05</td>\n",
       "    </tr>\n",
       "    <tr>\n",
       "      <th>std</th>\n",
       "      <td>288.819436</td>\n",
       "      <td>288.482872</td>\n",
       "      <td>4.474838e+05</td>\n",
       "    </tr>\n",
       "    <tr>\n",
       "      <th>min</th>\n",
       "      <td>1.000000</td>\n",
       "      <td>1.000000</td>\n",
       "      <td>1.611429e+01</td>\n",
       "    </tr>\n",
       "    <tr>\n",
       "      <th>25%</th>\n",
       "      <td>250.750000</td>\n",
       "      <td>226.750000</td>\n",
       "      <td>1.298267e+05</td>\n",
       "    </tr>\n",
       "    <tr>\n",
       "      <th>50%</th>\n",
       "      <td>500.500000</td>\n",
       "      <td>459.500000</td>\n",
       "      <td>3.827182e+05</td>\n",
       "    </tr>\n",
       "    <tr>\n",
       "      <th>75%</th>\n",
       "      <td>750.250000</td>\n",
       "      <td>710.250000</td>\n",
       "      <td>7.603211e+05</td>\n",
       "    </tr>\n",
       "    <tr>\n",
       "      <th>max</th>\n",
       "      <td>1000.000000</td>\n",
       "      <td>1000.000000</td>\n",
       "      <td>1.972127e+06</td>\n",
       "    </tr>\n",
       "  </tbody>\n",
       "</table>\n",
       "</div>"
      ],
      "text/plain": [
       "       Temperature °C     Mols KCL     Size nm^3\n",
       "count     1000.000000  1000.000000  1.000000e+03\n",
       "mean       500.500000   471.530000  5.086111e+05\n",
       "std        288.819436   288.482872  4.474838e+05\n",
       "min          1.000000     1.000000  1.611429e+01\n",
       "25%        250.750000   226.750000  1.298267e+05\n",
       "50%        500.500000   459.500000  3.827182e+05\n",
       "75%        750.250000   710.250000  7.603211e+05\n",
       "max       1000.000000  1000.000000  1.972127e+06"
      ]
     },
     "execution_count": 6,
     "metadata": {},
     "output_type": "execute_result"
    }
   ],
   "source": [
    "slime_data.describe()"
   ]
  },
  {
   "cell_type": "markdown",
   "metadata": {},
   "source": [
    "## Part 2. Splitting the dataset"
   ]
  },
  {
   "cell_type": "code",
   "execution_count": 7,
   "metadata": {},
   "outputs": [],
   "source": [
    "# Take the pandas dataset and split it into our features (X) and label (y)\n",
    "slime = slime_data\n",
    "x = slime.iloc[:,:2]\n",
    "y = slime.iloc[:,-1]\n",
    "\n",
    "# Use sklearn to split the features and labels into a training/test set. (90% train, 10% test)\n",
    "x_train,x_test,y_train,y_test = train_test_split(x,y,test_size=0.10)\n"
   ]
  },
  {
   "cell_type": "markdown",
   "metadata": {},
   "source": [
    "## Part 3. Perform a Linear Regression"
   ]
  },
  {
   "cell_type": "code",
   "execution_count": 8,
   "metadata": {},
   "outputs": [
    {
     "name": "stdout",
     "output_type": "stream",
     "text": [
      "           Sample     Predicted\n",
      "855  2.691125e+05  2.932031e+05\n",
      "218  1.892368e+05  5.167462e+05\n",
      "373  2.870685e+05  4.262652e+05\n",
      "445  1.863741e+06  1.412682e+06\n",
      "142  2.606631e+04 -2.080550e+05\n",
      "..            ...           ...\n",
      "342  1.270029e+03 -3.657091e+05\n",
      "990  9.089383e+04  3.668614e+05\n",
      "959  4.322046e+04 -8.375568e+03\n",
      "544  8.594349e+05  9.319641e+05\n",
      "666  2.211291e+05  5.473410e+05\n",
      "\n",
      "[100 rows x 2 columns]\n"
     ]
    }
   ],
   "source": [
    "# Use sklearn to train a model on the training set\n",
    "Model = LinearRegression()\n",
    "Model.fit(x_train,y_train)\n",
    "# Create a sample datapoint and predict the output of that sample with the trained model\n",
    "prediction = Model.predict(x_test)\n",
    "print(pd.DataFrame({\"Sample\" : y_test,\"Predicted\": prediction}))\n",
    "\n",
    "\n",
    "\n"
   ]
  },
  {
   "cell_type": "code",
   "execution_count": 9,
   "metadata": {},
   "outputs": [
    {
     "name": "stdout",
     "output_type": "stream",
     "text": [
      "Score =  0.860677107032014\n"
     ]
    }
   ],
   "source": [
    "# Report on the score for that model, in your own words (markdown, not code) explain what the score means\n",
    "Score = Model.score(x,y)\n",
    "print(\"Score = \", Score)"
   ]
  },
  {
   "cell_type": "markdown",
   "metadata": {},
   "source": [
    "The Score here is $R^2$ value which measures the goodness of fit for the linear regression models. This value shows us the relation between our features and the label of the trained model. The value ranges from 0 to 1 and higher value means better relationship between features and labels"
   ]
  },
  {
   "cell_type": "markdown",
   "metadata": {},
   "source": [
    "Our value of 0.86 means that our model has very good accuracy in showing the relationsib between our features and labels"
   ]
  },
  {
   "cell_type": "code",
   "execution_count": 10,
   "metadata": {},
   "outputs": [
    {
     "name": "stdout",
     "output_type": "stream",
     "text": [
      "Coeffecient =  [ 875.95625376 1039.82294292]\n",
      "Intercept =  -419729.2682966482\n"
     ]
    }
   ],
   "source": [
    "# Extract the coefficents and intercept from the model and write an equation for your h(x) using LaTeX\n",
    "Coeff = Model.coef_\n",
    "Intercept = Model.intercept_\n",
    "print(\"Coeffecient = \", Coeff)\n",
    "print(\"Intercept = \", Intercept)\n",
    "\n"
   ]
  },
  {
   "cell_type": "markdown",
   "metadata": {},
   "source": [
    "Here the Equation is:\n",
    "$\\\\$ $h\\left( x \\right)$ = 875.9562temp + 1039.8229mols - 419729.2682\n",
    "\n",
    "\n",
    "    "
   ]
  },
  {
   "cell_type": "markdown",
   "metadata": {},
   "source": [
    "## Part 4. Use Cross Validation"
   ]
  },
  {
   "cell_type": "code",
   "execution_count": 11,
   "metadata": {},
   "outputs": [
    {
     "data": {
      "text/plain": [
       "array([0.8626782 , 0.8424985 , 0.86331229, 0.85732202, 0.88357524,\n",
       "       0.87752653, 0.84683639, 0.86505225, 0.86317199, 0.84022695])"
      ]
     },
     "execution_count": 11,
     "metadata": {},
     "output_type": "execute_result"
    }
   ],
   "source": [
    "# Use the cross_val_score function to repeat your experiment across many shuffles of the data\n",
    "# Report on their finding and their significance\n",
    "cross_val = cross_val_score(Model,x_train,y_train,cv = 10)\n",
    "cross_val\n"
   ]
  },
  {
   "cell_type": "code",
   "execution_count": 12,
   "metadata": {},
   "outputs": [
    {
     "name": "stdout",
     "output_type": "stream",
     "text": [
      "Mean :  0.8602200351150653\n",
      "Standard Deviation :  0.013393825665117712\n"
     ]
    }
   ],
   "source": [
    "print(\"Mean : \", cross_val.mean())\n",
    "print(\"Standard Deviation : \", cross_val.std())"
   ]
  },
  {
   "cell_type": "markdown",
   "metadata": {},
   "source": [
    "cross_val_score returns the array of the value of $R^2$ for 10 rounds we performed to train the model we have that consisted of 90% train data and 10% test data. The function repeated the training and testing data 10 times i.e cv = 10 on different portion of data. We can see that the mean is 0.86, and SD is 0.022 which gives us a confirmation that regardless of the data sets we select for the training it gave us relatively similar result."
   ]
  },
  {
   "cell_type": "markdown",
   "metadata": {},
   "source": [
    "## Part 5. Using Polynomial Regression"
   ]
  },
  {
   "cell_type": "code",
   "execution_count": 13,
   "metadata": {},
   "outputs": [],
   "source": [
    "# Using the PolynomialFeatures library perform another regression on an augmented dataset of degree 2\n",
    "\n",
    "Model_poly = PolynomialFeatures(2)\n",
    "x_test = Model_poly.fit_transform(x_test)\n",
    "x_train = Model_poly.fit_transform(x_train)\n"
   ]
  },
  {
   "cell_type": "code",
   "execution_count": 14,
   "metadata": {},
   "outputs": [
    {
     "name": "stdout",
     "output_type": "stream",
     "text": [
      "           Sample     Predicted\n",
      "855  2.691125e+05  2.691125e+05\n",
      "218  1.892368e+05  1.892368e+05\n",
      "373  2.870685e+05  2.870685e+05\n",
      "445  1.863741e+06  1.863741e+06\n",
      "142  2.606631e+04  2.606631e+04\n",
      "..            ...           ...\n",
      "342  1.270029e+03  1.270029e+03\n",
      "990  9.089383e+04  9.089383e+04\n",
      "959  4.322046e+04  4.322046e+04\n",
      "544  8.594349e+05  8.594349e+05\n",
      "666  2.211291e+05  2.211291e+05\n",
      "\n",
      "[100 rows x 2 columns]\n"
     ]
    }
   ],
   "source": [
    "Model_Bay = BayesianRidge()\n",
    "Model_Bay.fit(x_train,y_train)\n",
    "Bay_prediction = Model_Bay.predict(x_test)\n",
    "print(pd.DataFrame({\"Sample\" : y_test,\"Predicted\": Bay_prediction}))\n",
    "\n"
   ]
  },
  {
   "cell_type": "code",
   "execution_count": 15,
   "metadata": {},
   "outputs": [
    {
     "name": "stdout",
     "output_type": "stream",
     "text": [
      "Bayesian Score =  1.0\n"
     ]
    }
   ],
   "source": [
    "# Report on the metrics and output the resultant equation as you did in Part 3.\n",
    "Bay_Score = Model_Bay.score(x_test, y_test)\n",
    "print(\"Bayesian Score = \", Bay_Score)"
   ]
  },
  {
   "cell_type": "code",
   "execution_count": 16,
   "metadata": {},
   "outputs": [
    {
     "name": "stdout",
     "output_type": "stream",
     "text": [
      "Coeffecient =  [ 0.00000000e+00  1.20000000e+01 -7.64515189e-08 -2.57542876e-11\n",
      "  2.00000000e+00  2.85714287e-02]\n",
      "Intercept =  6.6371867433190346e-06\n"
     ]
    }
   ],
   "source": [
    "Bay_Coeff = Model_Bay.coef_\n",
    "Bay_Intercept = Model_Bay.intercept_\n",
    "print(\"Coeffecient = \", Bay_Coeff)\n",
    "print(\"Intercept = \", Bay_Intercept)\n"
   ]
  },
  {
   "cell_type": "markdown",
   "metadata": {},
   "source": [
    "Here the Equation is:\n",
    "$\\\\$ $h\\left( x \\right)$ = 0.0000 + 12.000a + 0.0000b + 0.0000$a^2$ + 2.0000ab + 0.2857$b^2$\n",
    "\n",
    "    "
   ]
  },
  {
   "cell_type": "markdown",
   "metadata": {},
   "source": [
    "Bayesian Ridge Regression was used in this, as we can see that the score is 1.0, which is 100% value which means that it accurately  prdicts the size of slime based on the value of tempreture and mol."
   ]
  }
 ],
 "metadata": {
  "kernelspec": {
   "display_name": "Python 3",
   "language": "python",
   "name": "python3"
  },
  "language_info": {
   "codemirror_mode": {
    "name": "ipython",
    "version": 3
   },
   "file_extension": ".py",
   "mimetype": "text/x-python",
   "name": "python",
   "nbconvert_exporter": "python",
   "pygments_lexer": "ipython3",
   "version": "3.8.8"
  }
 },
 "nbformat": 4,
 "nbformat_minor": 4
}
